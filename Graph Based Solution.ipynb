{
 "cells": [
  {
   "cell_type": "markdown",
   "id": "5de90c608e32374",
   "metadata": {},
   "source": [
    "# Setting up the problem"
   ]
  },
  {
   "cell_type": "code",
   "execution_count": 1,
   "id": "a729bb558059f1d3",
   "metadata": {
    "ExecuteTime": {
     "end_time": "2023-11-23T01:02:59.854193700Z",
     "start_time": "2023-11-23T01:02:59.502618300Z"
    }
   },
   "outputs": [],
   "source": [
    "# Importing the libraries\n",
    "import numpy as np\n",
    "import matplotlib.pyplot as plt\n",
    "import pandas as pd\n",
    "import seaborn as sns\n",
    "from sklearn.preprocessing import StandardScaler\n",
    "import networkx as nx\n",
    "from math import sin, cos, sqrt, atan2, radians\n",
    "from shapely.geometry import Point\n",
    "from pyvis.network import Network"
   ]
  },
  {
   "cell_type": "code",
   "execution_count": 3,
   "id": "112d9f0aba7ba0b4",
   "metadata": {
    "ExecuteTime": {
     "end_time": "2023-11-15T21:00:50.135738800Z",
     "start_time": "2023-11-15T21:00:48.482147400Z"
    }
   },
   "outputs": [],
   "source": [
    "# Importing the dataset\n",
    "file_path= 'FWP Example Realistic.xlsx'\n",
    "dataset = pd.read_excel(file_path)"
   ]
  },
  {
   "cell_type": "code",
   "execution_count": 4,
   "id": "3425badbc2134476",
   "metadata": {
    "ExecuteTime": {
     "end_time": "2023-11-15T21:00:50.151364100Z",
     "start_time": "2023-11-15T21:00:50.135738800Z"
    }
   },
   "outputs": [
    {
     "data": {
      "text/plain": "Index(['jv_ID', 'areaName', 'sectionID', 'locFrom', 'locTo', 'lane',\n       'info_area_m2', 'info_jv_latitude', 'info_jv_longitude',\n       'info_surf_class', 'info_urban_rural', 'Treatment_2022',\n       'Treatment_2023', 'Treatment_2024', 'Treatment_2025', 'Treatment_2026',\n       'Treatment_2027', 'Treatment_2028', 'Treatment_2029', 'Treatment_2030',\n       'Treatment_2031', 'Treatment_2032', 'Treatment_2033', 'Treatment_2034',\n       'Treatment_2035', 'Treatment_2036', 'Treatment_2037', 'Treatment_2038',\n       'Treatment_2039', 'Treatment_2040', 'Treatment_2041'],\n      dtype='object')"
     },
     "execution_count": 4,
     "metadata": {},
     "output_type": "execute_result"
    }
   ],
   "source": [
    "dataset.columns"
   ]
  },
  {
   "cell_type": "code",
   "execution_count": 5,
   "outputs": [],
   "source": [
    "dataset['xy'] = [Point(xy) for xy in zip(dataset['info_jv_longitude'], dataset['info_jv_latitude'])]"
   ],
   "metadata": {
    "collapsed": false,
    "ExecuteTime": {
     "end_time": "2023-11-15T21:00:53.683958Z",
     "start_time": "2023-11-15T21:00:53.634525700Z"
    }
   },
   "id": "d7b67e406ec4cbec"
  },
  {
   "cell_type": "code",
   "execution_count": 6,
   "outputs": [
    {
     "data": {
      "text/plain": "       jv_ID                           areaName  sectionID  locFrom  locTo  \\\n0     292036              AARON PLACE_8_id_1094       1094        8    127   \n1     292037   AARON PLACE HAMMERHEAD_0_id_1095       1095        0     50   \n2     292038  AARON PLACE HAMMERHEAD_80_id_1095       1095       80    113   \n3     292039          AARON PLACE RAB_0_id_1362       1362        0     53   \n4     292040           ABELIA AVENUE_18_id_1028       1028       18     67   \n...      ...                                ...        ...      ...    ...   \n3594  295630              YORK AVENUE_13_id_678        678       13    200   \n3595  295631             YORK AVENUE_200_id_678        678      200    247   \n3596  295632            ZACHARY PLACE_4_id_1122       1122        4     54   \n3597  295633              ZAPOTE PLACE_3_id_977        977        3     97   \n3598  295634             ZAPOTE PLACE_97_id_977        977       97    121   \n\n     lane  info_area_m2  info_jv_latitude  info_jv_longitude info_surf_class  \\\n0     All         785.4        -37.694304         176.128057              ac   \n1     All         365.0        -37.694977         176.127427              ac   \n2     All         267.3        -37.695154         176.128164              ac   \n3     All         307.4          0.000000           0.000000              ac   \n4     All         367.5        -37.682016         176.237100              ac   \n...   ...           ...               ...                ...             ...   \n3594  All        2187.9        -37.656198         176.191476              ac   \n3595  All         549.9        -37.656219         176.192837              ac   \n3596  All         280.0        -37.735845         176.184094              ac   \n3597  All         526.4        -37.752167         176.162370            seal   \n3598  All         134.4        -37.751640         176.162226              ac   \n\n      ... Treatment_2033  Treatment_2034 Treatment_2035 Treatment_2036  \\\n0     ...            NaN             NaN            NaN            NaN   \n1     ...            NaN        ChipSeal            NaN            NaN   \n2     ...            NaN             NaN            NaN            NaN   \n3     ...            NaN       ThinAC_SR            NaN            NaN   \n4     ...       ChipSeal             NaN            NaN            NaN   \n...   ...            ...             ...            ...            ...   \n3594  ...            NaN             NaN            NaN            NaN   \n3595  ...            NaN             NaN            NaN            NaN   \n3596  ...            NaN             NaN            NaN            NaN   \n3597  ...            NaN             NaN            NaN            NaN   \n3598  ...            NaN             NaN            NaN            NaN   \n\n     Treatment_2037 Treatment_2038 Treatment_2039 Treatment_2040  \\\n0               NaN            NaN       ChipSeal            NaN   \n1               NaN            NaN            NaN            NaN   \n2               NaN            NaN            NaN       ChipSeal   \n3               NaN            NaN            NaN            NaN   \n4               NaN            NaN            NaN       ChipSeal   \n...             ...            ...            ...            ...   \n3594            NaN            NaN            NaN            NaN   \n3595            NaN            NaN            NaN            NaN   \n3596            NaN            NaN       ChipSeal            NaN   \n3597            NaN            NaN            NaN            NaN   \n3598            NaN            NaN       ChipSeal            NaN   \n\n     Treatment_2041                                     xy  \n0               NaN  POINT (176.1280568353 -37.6943036104)  \n1          ChipSeal  POINT (176.1274272514 -37.6949769895)  \n2               NaN  POINT (176.1281643499 -37.6951544738)  \n3               NaN                            POINT (0 0)  \n4               NaN  POINT (176.2370996109 -37.6820159691)  \n...             ...                                    ...  \n3594            NaN  POINT (176.1914760698 -37.6561980495)  \n3595            NaN  POINT (176.1928372892 -37.6562189938)  \n3596            NaN  POINT (176.1840940985 -37.7358451161)  \n3597            NaN  POINT (176.1623697705 -37.7521670801)  \n3598            NaN  POINT (176.1622260903 -37.7516402781)  \n\n[3599 rows x 32 columns]",
      "text/html": "<div>\n<style scoped>\n    .dataframe tbody tr th:only-of-type {\n        vertical-align: middle;\n    }\n\n    .dataframe tbody tr th {\n        vertical-align: top;\n    }\n\n    .dataframe thead th {\n        text-align: right;\n    }\n</style>\n<table border=\"1\" class=\"dataframe\">\n  <thead>\n    <tr style=\"text-align: right;\">\n      <th></th>\n      <th>jv_ID</th>\n      <th>areaName</th>\n      <th>sectionID</th>\n      <th>locFrom</th>\n      <th>locTo</th>\n      <th>lane</th>\n      <th>info_area_m2</th>\n      <th>info_jv_latitude</th>\n      <th>info_jv_longitude</th>\n      <th>info_surf_class</th>\n      <th>...</th>\n      <th>Treatment_2033</th>\n      <th>Treatment_2034</th>\n      <th>Treatment_2035</th>\n      <th>Treatment_2036</th>\n      <th>Treatment_2037</th>\n      <th>Treatment_2038</th>\n      <th>Treatment_2039</th>\n      <th>Treatment_2040</th>\n      <th>Treatment_2041</th>\n      <th>xy</th>\n    </tr>\n  </thead>\n  <tbody>\n    <tr>\n      <th>0</th>\n      <td>292036</td>\n      <td>AARON PLACE_8_id_1094</td>\n      <td>1094</td>\n      <td>8</td>\n      <td>127</td>\n      <td>All</td>\n      <td>785.4</td>\n      <td>-37.694304</td>\n      <td>176.128057</td>\n      <td>ac</td>\n      <td>...</td>\n      <td>NaN</td>\n      <td>NaN</td>\n      <td>NaN</td>\n      <td>NaN</td>\n      <td>NaN</td>\n      <td>NaN</td>\n      <td>ChipSeal</td>\n      <td>NaN</td>\n      <td>NaN</td>\n      <td>POINT (176.1280568353 -37.6943036104)</td>\n    </tr>\n    <tr>\n      <th>1</th>\n      <td>292037</td>\n      <td>AARON PLACE HAMMERHEAD_0_id_1095</td>\n      <td>1095</td>\n      <td>0</td>\n      <td>50</td>\n      <td>All</td>\n      <td>365.0</td>\n      <td>-37.694977</td>\n      <td>176.127427</td>\n      <td>ac</td>\n      <td>...</td>\n      <td>NaN</td>\n      <td>ChipSeal</td>\n      <td>NaN</td>\n      <td>NaN</td>\n      <td>NaN</td>\n      <td>NaN</td>\n      <td>NaN</td>\n      <td>NaN</td>\n      <td>ChipSeal</td>\n      <td>POINT (176.1274272514 -37.6949769895)</td>\n    </tr>\n    <tr>\n      <th>2</th>\n      <td>292038</td>\n      <td>AARON PLACE HAMMERHEAD_80_id_1095</td>\n      <td>1095</td>\n      <td>80</td>\n      <td>113</td>\n      <td>All</td>\n      <td>267.3</td>\n      <td>-37.695154</td>\n      <td>176.128164</td>\n      <td>ac</td>\n      <td>...</td>\n      <td>NaN</td>\n      <td>NaN</td>\n      <td>NaN</td>\n      <td>NaN</td>\n      <td>NaN</td>\n      <td>NaN</td>\n      <td>NaN</td>\n      <td>ChipSeal</td>\n      <td>NaN</td>\n      <td>POINT (176.1281643499 -37.6951544738)</td>\n    </tr>\n    <tr>\n      <th>3</th>\n      <td>292039</td>\n      <td>AARON PLACE RAB_0_id_1362</td>\n      <td>1362</td>\n      <td>0</td>\n      <td>53</td>\n      <td>All</td>\n      <td>307.4</td>\n      <td>0.000000</td>\n      <td>0.000000</td>\n      <td>ac</td>\n      <td>...</td>\n      <td>NaN</td>\n      <td>ThinAC_SR</td>\n      <td>NaN</td>\n      <td>NaN</td>\n      <td>NaN</td>\n      <td>NaN</td>\n      <td>NaN</td>\n      <td>NaN</td>\n      <td>NaN</td>\n      <td>POINT (0 0)</td>\n    </tr>\n    <tr>\n      <th>4</th>\n      <td>292040</td>\n      <td>ABELIA AVENUE_18_id_1028</td>\n      <td>1028</td>\n      <td>18</td>\n      <td>67</td>\n      <td>All</td>\n      <td>367.5</td>\n      <td>-37.682016</td>\n      <td>176.237100</td>\n      <td>ac</td>\n      <td>...</td>\n      <td>ChipSeal</td>\n      <td>NaN</td>\n      <td>NaN</td>\n      <td>NaN</td>\n      <td>NaN</td>\n      <td>NaN</td>\n      <td>NaN</td>\n      <td>ChipSeal</td>\n      <td>NaN</td>\n      <td>POINT (176.2370996109 -37.6820159691)</td>\n    </tr>\n    <tr>\n      <th>...</th>\n      <td>...</td>\n      <td>...</td>\n      <td>...</td>\n      <td>...</td>\n      <td>...</td>\n      <td>...</td>\n      <td>...</td>\n      <td>...</td>\n      <td>...</td>\n      <td>...</td>\n      <td>...</td>\n      <td>...</td>\n      <td>...</td>\n      <td>...</td>\n      <td>...</td>\n      <td>...</td>\n      <td>...</td>\n      <td>...</td>\n      <td>...</td>\n      <td>...</td>\n      <td>...</td>\n    </tr>\n    <tr>\n      <th>3594</th>\n      <td>295630</td>\n      <td>YORK AVENUE_13_id_678</td>\n      <td>678</td>\n      <td>13</td>\n      <td>200</td>\n      <td>All</td>\n      <td>2187.9</td>\n      <td>-37.656198</td>\n      <td>176.191476</td>\n      <td>ac</td>\n      <td>...</td>\n      <td>NaN</td>\n      <td>NaN</td>\n      <td>NaN</td>\n      <td>NaN</td>\n      <td>NaN</td>\n      <td>NaN</td>\n      <td>NaN</td>\n      <td>NaN</td>\n      <td>NaN</td>\n      <td>POINT (176.1914760698 -37.6561980495)</td>\n    </tr>\n    <tr>\n      <th>3595</th>\n      <td>295631</td>\n      <td>YORK AVENUE_200_id_678</td>\n      <td>678</td>\n      <td>200</td>\n      <td>247</td>\n      <td>All</td>\n      <td>549.9</td>\n      <td>-37.656219</td>\n      <td>176.192837</td>\n      <td>ac</td>\n      <td>...</td>\n      <td>NaN</td>\n      <td>NaN</td>\n      <td>NaN</td>\n      <td>NaN</td>\n      <td>NaN</td>\n      <td>NaN</td>\n      <td>NaN</td>\n      <td>NaN</td>\n      <td>NaN</td>\n      <td>POINT (176.1928372892 -37.6562189938)</td>\n    </tr>\n    <tr>\n      <th>3596</th>\n      <td>295632</td>\n      <td>ZACHARY PLACE_4_id_1122</td>\n      <td>1122</td>\n      <td>4</td>\n      <td>54</td>\n      <td>All</td>\n      <td>280.0</td>\n      <td>-37.735845</td>\n      <td>176.184094</td>\n      <td>ac</td>\n      <td>...</td>\n      <td>NaN</td>\n      <td>NaN</td>\n      <td>NaN</td>\n      <td>NaN</td>\n      <td>NaN</td>\n      <td>NaN</td>\n      <td>ChipSeal</td>\n      <td>NaN</td>\n      <td>NaN</td>\n      <td>POINT (176.1840940985 -37.7358451161)</td>\n    </tr>\n    <tr>\n      <th>3597</th>\n      <td>295633</td>\n      <td>ZAPOTE PLACE_3_id_977</td>\n      <td>977</td>\n      <td>3</td>\n      <td>97</td>\n      <td>All</td>\n      <td>526.4</td>\n      <td>-37.752167</td>\n      <td>176.162370</td>\n      <td>seal</td>\n      <td>...</td>\n      <td>NaN</td>\n      <td>NaN</td>\n      <td>NaN</td>\n      <td>NaN</td>\n      <td>NaN</td>\n      <td>NaN</td>\n      <td>NaN</td>\n      <td>NaN</td>\n      <td>NaN</td>\n      <td>POINT (176.1623697705 -37.7521670801)</td>\n    </tr>\n    <tr>\n      <th>3598</th>\n      <td>295634</td>\n      <td>ZAPOTE PLACE_97_id_977</td>\n      <td>977</td>\n      <td>97</td>\n      <td>121</td>\n      <td>All</td>\n      <td>134.4</td>\n      <td>-37.751640</td>\n      <td>176.162226</td>\n      <td>ac</td>\n      <td>...</td>\n      <td>NaN</td>\n      <td>NaN</td>\n      <td>NaN</td>\n      <td>NaN</td>\n      <td>NaN</td>\n      <td>NaN</td>\n      <td>ChipSeal</td>\n      <td>NaN</td>\n      <td>NaN</td>\n      <td>POINT (176.1622260903 -37.7516402781)</td>\n    </tr>\n  </tbody>\n</table>\n<p>3599 rows × 32 columns</p>\n</div>"
     },
     "execution_count": 6,
     "metadata": {},
     "output_type": "execute_result"
    }
   ],
   "source": [
    "dataset"
   ],
   "metadata": {
    "collapsed": false,
    "ExecuteTime": {
     "end_time": "2023-11-15T21:00:54.337976500Z",
     "start_time": "2023-11-15T21:00:54.306714900Z"
    }
   },
   "id": "af74b127c24ad639"
  },
  {
   "cell_type": "code",
   "execution_count": 7,
   "id": "f6030dad09bee432",
   "metadata": {
    "ExecuteTime": {
     "end_time": "2023-11-15T21:00:58.547774400Z",
     "start_time": "2023-11-15T21:00:58.532146200Z"
    }
   },
   "outputs": [],
   "source": [
    "#ditance between two points based on longitude and latitude\n",
    "def distance(lat1, lon1, lat2, lon2):\n",
    "    \n",
    "    # approximate radius of earth in km\n",
    "    R = 6373.0\n",
    "    lat1 = radians(lat1)\n",
    "    lon1 = radians(lon1)\n",
    "    lat2 = radians(lat2)\n",
    "    lon2 = radians(lon2)\n",
    "    dlon = lon2 - lon1\n",
    "    dlat = lat2 - lat1\n",
    "    a = sin(dlat/2)**2 + cos(lat1)*cos(lat2)*sin(dlon/2)**2\n",
    "    c = 2*atan2(sqrt(a), sqrt(1-a))\n",
    "    distance = R*c\n",
    "    return distance"
   ]
  },
  {
   "cell_type": "code",
   "execution_count": 92,
   "id": "9432d1ad2a865640",
   "metadata": {
    "ExecuteTime": {
     "end_time": "2023-11-13T23:18:55.493244400Z",
     "start_time": "2023-11-13T23:18:55.488237100Z"
    }
   },
   "outputs": [],
   "source": [
    "#checking the treatments that would happen within one kilometer of each other using distance function\n",
    "#using \n",
    "def plot_graph(dataset):\n",
    "    G = nx.Graph()\n",
    "    j_1=0\n",
    "    for i in range(len(dataset)):\n",
    "        G.add_node(str(dataset['jv_ID'][i]),label=str(dataset['jv_ID'][i]),title=str(dataset['jv_ID'][i]))\n",
    "        j_1=j_1+1\n",
    "    for i in range(len(dataset)):\n",
    "        for j in range(len(dataset)):\n",
    "            if i != j:\n",
    "                if distance(dataset['info_jv_latitude'][i], dataset['info_jv_longitude'][i], dataset['info_jv_latitude'][j], dataset['info_jv_longitude'][j]) <= 1:\n",
    "                    G.add_edge(str(dataset['jv_ID'][i]),str(dataset['jv_ID'][j]))\n",
    "                    \n",
    "                \n",
    "            \n",
    "                \n",
    "    pos = nx.get_node_attributes(G, 'pos')\n",
    "    nt = Network('500px', '500px')\n",
    "    nt.from_nx(G)\n",
    "    nt.show_buttons(filter_=['physics'])\n",
    "    #nx.draw(G,node_size=0.2)#with_labels=True)\n",
    "    nt.show('nx.html',notebook=False)"
   ]
  },
  {
   "cell_type": "code",
   "execution_count": 93,
   "id": "8c817c22b2eaacf8",
   "metadata": {
    "ExecuteTime": {
     "end_time": "2023-11-13T23:18:56.762152Z",
     "start_time": "2023-11-13T23:18:56.512207100Z"
    }
   },
   "outputs": [
    {
     "name": "stdout",
     "output_type": "stream",
     "text": [
      "nx.html\n"
     ]
    }
   ],
   "source": [
    "#checking the treatments that would happen within one kilometers of each other using distance function\n",
    "plot_graph(dataset.head(100))"
   ]
  },
  {
   "cell_type": "code",
   "execution_count": 10,
   "id": "eb3042d6",
   "metadata": {},
   "outputs": [],
   "source": [
    "G = nx.Graph()"
   ]
  },
  {
   "cell_type": "code",
   "execution_count": 15,
   "id": "f83c0072",
   "metadata": {},
   "outputs": [],
   "source": [
    "G.add_node(1)\n",
    "G.add_node(2)\n",
    "G.add_edge(1,2)"
   ]
  },
  {
   "cell_type": "code",
   "execution_count": 50,
   "id": "82c1b762",
   "metadata": {
    "ExecuteTime": {
     "end_time": "2023-11-13T22:40:30.592320Z",
     "start_time": "2023-11-13T22:40:30.569998Z"
    }
   },
   "outputs": [
    {
     "ename": "NameError",
     "evalue": "name 'G' is not defined",
     "output_type": "error",
     "traceback": [
      "\u001B[1;31m---------------------------------------------------------------------------\u001B[0m",
      "\u001B[1;31mNameError\u001B[0m                                 Traceback (most recent call last)",
      "\u001B[1;32m~\\AppData\\Local\\Temp\\ipykernel_4680\\406050469.py\u001B[0m in \u001B[0;36m<module>\u001B[1;34m\u001B[0m\n\u001B[1;32m----> 1\u001B[1;33m \u001B[0mnx\u001B[0m\u001B[1;33m.\u001B[0m\u001B[0mdraw\u001B[0m\u001B[1;33m(\u001B[0m\u001B[0mG\u001B[0m\u001B[1;33m)\u001B[0m\u001B[1;33m\u001B[0m\u001B[1;33m\u001B[0m\u001B[0m\n\u001B[0m",
      "\u001B[1;31mNameError\u001B[0m: name 'G' is not defined"
     ]
    }
   ],
   "source": [
    "nx.draw(G)"
   ]
  },
  {
   "cell_type": "code",
   "execution_count": 69,
   "outputs": [
    {
     "name": "stdout",
     "output_type": "stream",
     "text": [
      "Collecting pyvis\n",
      "  Downloading pyvis-0.3.2-py3-none-any.whl (756 kB)\n",
      "     -------------------------------------- 756.0/756.0 kB 1.8 MB/s eta 0:00:00\n",
      "Requirement already satisfied: networkx>=1.11 in c:\\users\\haider\\anaconda3\\lib\\site-packages (from pyvis) (2.8.4)\n",
      "Requirement already satisfied: ipython>=5.3.0 in c:\\users\\haider\\anaconda3\\lib\\site-packages (from pyvis) (7.31.1)\n",
      "Requirement already satisfied: jinja2>=2.9.6 in c:\\users\\haider\\anaconda3\\lib\\site-packages (from pyvis) (2.11.3)\n",
      "Collecting jsonpickle>=1.4.1\n",
      "  Downloading jsonpickle-3.0.2-py3-none-any.whl (40 kB)\n",
      "     -------------------------------------- 40.7/40.7 kB 951.4 kB/s eta 0:00:00\n",
      "Requirement already satisfied: jedi>=0.16 in c:\\users\\haider\\anaconda3\\lib\\site-packages (from ipython>=5.3.0->pyvis) (0.18.1)\n",
      "Requirement already satisfied: matplotlib-inline in c:\\users\\haider\\anaconda3\\lib\\site-packages (from ipython>=5.3.0->pyvis) (0.1.6)\n",
      "Requirement already satisfied: backcall in c:\\users\\haider\\anaconda3\\lib\\site-packages (from ipython>=5.3.0->pyvis) (0.2.0)\n",
      "Requirement already satisfied: pygments in c:\\users\\haider\\anaconda3\\lib\\site-packages (from ipython>=5.3.0->pyvis) (2.14.0)\n",
      "Requirement already satisfied: decorator in c:\\users\\haider\\anaconda3\\lib\\site-packages (from ipython>=5.3.0->pyvis) (5.1.1)\n",
      "Requirement already satisfied: prompt-toolkit!=3.0.0,!=3.0.1,<3.1.0,>=2.0.0 in c:\\users\\haider\\anaconda3\\lib\\site-packages (from ipython>=5.3.0->pyvis) (3.0.20)\n",
      "Requirement already satisfied: traitlets>=4.2 in c:\\users\\haider\\anaconda3\\lib\\site-packages (from ipython>=5.3.0->pyvis) (5.1.1)\n",
      "Requirement already satisfied: setuptools>=18.5 in c:\\users\\haider\\anaconda3\\lib\\site-packages (from ipython>=5.3.0->pyvis) (63.4.1)\n",
      "Requirement already satisfied: colorama in c:\\users\\haider\\anaconda3\\lib\\site-packages (from ipython>=5.3.0->pyvis) (0.4.5)\n",
      "Requirement already satisfied: pickleshare in c:\\users\\haider\\anaconda3\\lib\\site-packages (from ipython>=5.3.0->pyvis) (0.7.5)\n",
      "Requirement already satisfied: MarkupSafe>=0.23 in c:\\users\\haider\\anaconda3\\lib\\site-packages (from jinja2>=2.9.6->pyvis) (2.0.1)\n",
      "Requirement already satisfied: parso<0.9.0,>=0.8.0 in c:\\users\\haider\\anaconda3\\lib\\site-packages (from jedi>=0.16->ipython>=5.3.0->pyvis) (0.8.3)\n",
      "Requirement already satisfied: wcwidth in c:\\users\\haider\\anaconda3\\lib\\site-packages (from prompt-toolkit!=3.0.0,!=3.0.1,<3.1.0,>=2.0.0->ipython>=5.3.0->pyvis) (0.2.5)\n",
      "Installing collected packages: jsonpickle, pyvis\n",
      "Successfully installed jsonpickle-3.0.2 pyvis-0.3.2\n"
     ]
    }
   ],
   "source": [
    "!pip install pyvis"
   ],
   "metadata": {
    "collapsed": false,
    "ExecuteTime": {
     "end_time": "2023-11-13T22:59:24.639415800Z",
     "start_time": "2023-11-13T22:59:20.219988600Z"
    }
   },
   "id": "192262290fe182b3"
  },
  {
   "cell_type": "code",
   "execution_count": 20,
   "outputs": [
    {
     "data": {
      "text/plain": "<Figure size 500x200 with 1 Axes>",
      "image/png": "[encoded data removed]"
     },
     "metadata": {},
     "output_type": "display_data"
    }
   ],
   "source": [
    "graph_to_show= nx.Graph()\n",
    "graph_to_show.add_node(\"Job 1\",label=\"Job 1\",title=\"Job 1\")\n",
    "graph_to_show.add_node(\"Job 2\",label=\"Job 2\",title=\"Job 2\")\n",
    "graph_to_show.add_node(\"Job 3\",label=\"Job 3\",title=\"Job 3\")\n",
    "graph_to_show.add_node(\"Job 4\",label=\"Job 4\",title=\"Job 4\")\n",
    "graph_to_show.add_node(\"Job 5\",label=\"Job 5\",title=\"Job 5\")\n",
    "graph_to_show.add_node(\"Job 6\",label=\"Job 6\",title=\"Job 6\")\n",
    "\n",
    "\n",
    "graph_to_show.add_edge(\"Job 1\",\"Job 2\",label=\"Compatible\")\n",
    "graph_to_show.add_edge(\"Job 2\",\"Job 3\")\n",
    "graph_to_show.add_edge(\"Job 3\",\"Job 1\")\n",
    "graph_to_show.add_edge(\"Job 4\",\"Job 5\")\n",
    "graph_to_show.add_edge(\"Job 5\",\"Job 6\")\n",
    "graph_to_show.add_edge(\"Job 6\",\"Job 4\")\n",
    "#graph_to_show.add_edge(\"Job 3\",\"Job 4\")\n",
    "\n",
    "plt.figure(figsize=(5,2))\n",
    "#pos = nx.get_node_attributes(graph_to_show, 'pos')\n",
    "\n",
    "nx.draw(graph_to_show,with_labels=True)"
   ],
   "metadata": {
    "collapsed": false,
    "ExecuteTime": {
     "end_time": "2023-11-15T21:14:31.845783200Z",
     "start_time": "2023-11-15T21:14:31.760647400Z"
    }
   },
   "id": "8b104b1e2cb64953"
  },
  {
   "cell_type": "code",
   "execution_count": null,
   "outputs": [],
   "source": [
    "#creating a compatability graph for the treatments\n",
    "def create_graph(dataset):\n",
    "    G = nx.Graph()\n",
    "    j_1=0\n",
    "    for i in range(len(dataset)):\n",
    "        G.add_node(str(dataset['jv_ID'][i]),label=str(dataset['jv_ID'][i]),title=str(dataset['jv_ID'][i]))\n",
    "        j_1=j_1+1\n",
    "    for i in range(len(dataset)):\n",
    "        for j in range(len(dataset)):\n",
    "            for k in range(years):\n",
    "                if i != j:\n",
    "                    if dataset['info_jv_year'][i] == dataset['info_jv_year'][j]:\n",
    "                        if distance(dataset['info_jv_latitude'][i], dataset['info_jv_longitude'][i], dataset['info_jv_latitude'][j], dataset['info_jv_longitude'][j]) <= 1:\n",
    "                            G.add_edge(str(dataset['jv_ID'][i]),str(dataset['jv_ID'][j]))\n",
    "            if i != j:\n",
    "                if distance(dataset['info_jv_latitude'][i], dataset['info_jv_longitude'][i], dataset['info_jv_latitude'][j], dataset['info_jv_longitude'][j]) <= 1:\n",
    "                    G.add_edge(str(dataset['jv_ID'][i]),str(dataset['jv_ID'][j]))\n",
    "                    \n",
    "                \n",
    "            \n",
    "                \n",
    "    pos = nx.get_node_attributes(G, 'pos')\n",
    "    return G"
   ],
   "metadata": {
    "collapsed": false
   },
   "id": "bb3be349cd8d33f"
  },
  {
   "cell_type": "code",
   "execution_count": null,
   "outputs": [],
   "source": [
    "#iterating over all the years in 'Treatment_2022', 'Treatment_2023', 'Treatment_2024', 'Treatment_2025', 'Treatment_2026','Treatment_2027', 'Treatment_2028', 'Treatment_2029', 'Treatment_2030','Treatment_2031', 'Treatment_2032', 'Treatment_2033', 'Treatment_2034', 'Treatment_2035', 'Treatment_2036', 'Treatment_2037', 'Treatment_2038', 'Treatment_2039', 'Treatment_2040', 'Treatment_2041' and see which treatments are compatible with each other\n",
    "years = 20\n",
    "for i in range(years):\n",
    "    graph_to_show = create_graph(dataset)\n",
    "    plt.figure(figsize=(5,2))\n",
    "    nx.draw(graph_to_show,with_labels=True)\n",
    "    plt.savefig('graph_'+str(i)+'.png')\n",
    "    plt.close()"
   ],
   "metadata": {
    "collapsed": false
   },
   "id": "31462520a4b75dae"
  },
  {
   "cell_type": "code",
   "execution_count": 10,
   "outputs": [],
   "source": [
    "import networkx as nx\n",
    "from pyvis.network import Network\n",
    "\n",
    "def plot_compatible_treatments_graph(dataset):\n",
    "    G = nx.Graph()\n",
    "\n",
    "    # Add nodes for each treatment\n",
    "    treatments_columns = [col for col in dataset.columns if col.startswith('Treatment_')]\n",
    "    for treatment_col in treatments_columns:\n",
    "        for i in range(len(dataset)):\n",
    "            treatment_year = int(treatment_col.split('_')[1])\n",
    "            treatment_id = f\"{dataset['jv_ID'][i]}_{treatment_year}\"\n",
    "            G.add_node(treatment_id, label=treatment_id, title=treatment_id)\n",
    "\n",
    "    # Add edges for compatible treatments\n",
    "    for i in range(len(dataset)):\n",
    "        for j in range(len(dataset)):\n",
    "            if i != j:\n",
    "                for treatment_col in treatments_columns:\n",
    "                    treatment_year_i = int(treatment_col.split('_')[1])\n",
    "                    treatment_year_j = int(treatment_col.split('_')[1])\n",
    "                    # Check if the treatments are within 1 km and 3 years of each other\n",
    "                    if (\n",
    "                        distance(dataset['info_jv_latitude'][i], dataset['info_jv_longitude'][i],\n",
    "                                 dataset['info_jv_latitude'][j], dataset['info_jv_longitude'][j]) <= 1\n",
    "                        and abs(treatment_year_i - treatment_year_j) <= 3\n",
    "                    ):\n",
    "                        treatment_id_i = f\"{dataset['jv_ID'][i]}_{treatment_year_i}\"\n",
    "                        treatment_id_j = f\"{dataset['jv_ID'][j]}_{treatment_year_j}\"\n",
    "                        G.add_edge(treatment_id_i, treatment_id_j)\n",
    "\n",
    "    # Create a Network object\n",
    "    nt = Network('500px', '500px')\n",
    "    nt.from_nx(G)\n",
    "    nt.show_buttons(filter_=['physics'])\n",
    "    nt.show('compatible_treatments_graph.html', notebook=False)\n",
    "\n",
    "# Define or import the 'distance' function\n",
    "\n",
    "# Call the plot_compatible_treatments_graph function with your dataset\n",
    "\n"
   ],
   "metadata": {
    "collapsed": false,
    "ExecuteTime": {
     "end_time": "2023-11-23T01:16:56.477230700Z",
     "start_time": "2023-11-23T01:16:56.467219200Z"
    }
   },
   "id": "7ff22f75cd694094"
  },
  {
   "cell_type": "code",
   "execution_count": 14,
   "outputs": [
    {
     "name": "stdout",
     "output_type": "stream",
     "text": [
      "compatible_treatments_graph.html\n"
     ]
    }
   ],
   "source": [
    "plot_compatible_treatments_graph(dataset.head(100))"
   ],
   "metadata": {
    "collapsed": false,
    "ExecuteTime": {
     "end_time": "2023-11-23T21:15:07.971113800Z",
     "start_time": "2023-11-23T21:15:03.837620700Z"
    }
   },
   "id": "9afe23c71a213b06"
  },
  {
   "cell_type": "code",
   "execution_count": 15,
   "outputs": [],
   "source": [
    "import networkx as nx\n",
    "from pyvis.network import Network\n",
    "import numpy as np\n",
    "from rtree import index\n",
    "\n",
    "def build_spatial_index(dataset):\n",
    "    idx = index.Index()\n",
    "    for i, row in dataset.iterrows():\n",
    "        idx.insert(i, (row['info_jv_longitude'], row['info_jv_latitude'], row['info_jv_longitude'], row['info_jv_latitude']))\n",
    "    return idx\n",
    "\n",
    "def plot_compatible_treatments_graph(dataset):\n",
    "    G = nx.Graph()\n",
    "\n",
    "    # Build a spatial index for efficient geographical searches\n",
    "    spatial_index = build_spatial_index(dataset)\n",
    "\n",
    "    # Add nodes for each treatment using itertuples\n",
    "    treatments_columns = [col for col in dataset.columns if col.startswith('Treatment_')]\n",
    "    for row in dataset.itertuples():\n",
    "        for treatment_col in treatments_columns:\n",
    "            treatment_year = int(treatment_col.split('_')[1])\n",
    "            treatment_id = f\"{row.jv_ID}_{treatment_year}\"\n",
    "            G.add_node(treatment_id, label=treatment_id, title=treatment_id)\n",
    "\n",
    "    # Add edges for compatible treatments using spatial indexing\n",
    "    for i, row_i in enumerate(dataset.itertuples()):\n",
    "        for j in spatial_index.intersection((row_i.info_jv_longitude - 1, row_i.info_jv_latitude - 1,\n",
    "                                              row_i.info_jv_longitude + 1, row_i.info_jv_latitude + 1)):\n",
    "            row_j = dataset.iloc[j]\n",
    "            if i != j:\n",
    "                for treatment_col in treatments_columns:\n",
    "                    treatment_year_i = int(treatment_col.split('_')[1])\n",
    "                    treatment_year_j = int(treatment_col.split('_')[1])\n",
    "                    # Check if the treatments are within 1 km and 3 years of each other\n",
    "                    if (\n",
    "                        distance(row_i.info_jv_latitude, row_i.info_jv_longitude,\n",
    "                                 row_j.info_jv_latitude, row_j.info_jv_longitude) <= 1\n",
    "                        and abs(treatment_year_i - treatment_year_j) <= 3\n",
    "                    ):\n",
    "                        treatment_id_i = f\"{row_i.jv_ID}_{treatment_year_i}\"\n",
    "                        treatment_id_j = f\"{row_j.jv_ID}_{treatment_year_j}\"\n",
    "                        G.add_edge(treatment_id_i, treatment_id_j)\n",
    "\n",
    "    # Create a Network object\n",
    "    nt = Network('500px', '500px')\n",
    "    nt.from_nx(G)\n",
    "    nt.show_buttons(filter_=['physics'])\n",
    "    nt.show('compatible_treatments_graph.html', notebook=False)\n",
    "\n",
    "# Define or import the optimized 'distance' function\n",
    "\n",
    "# Call the plot_compatible_treatments_graph function with your dataset\n",
    "\n"
   ],
   "metadata": {
    "collapsed": false,
    "ExecuteTime": {
     "end_time": "2023-11-23T22:12:00.597462300Z",
     "start_time": "2023-11-23T22:12:00.548926800Z"
    }
   },
   "id": "e70b84addd5c4f48"
  },
  {
   "cell_type": "code",
   "execution_count": null,
   "outputs": [],
   "source": [
    "plot_compatible_treatments_graph(dataset)"
   ],
   "metadata": {
    "collapsed": false,
    "is_executing": true,
    "ExecuteTime": {
     "start_time": "2023-11-23T22:18:15.137468600Z"
    }
   },
   "id": "cd2fa9c61cfac45e"
  },
  {
   "cell_type": "code",
   "execution_count": null,
   "outputs": [],
   "source": [],
   "metadata": {
    "collapsed": false
   },
   "id": "9bde145da27a2ee7"
  }
 ],
 "metadata": {
  "kernelspec": {
   "display_name": "Python 3 (ipykernel)",
   "language": "python",
   "name": "python3"
  },
  "language_info": {
   "codemirror_mode": {
    "name": "ipython",
    "version": 3
   },
   "file_extension": ".py",
   "mimetype": "text/x-python",
   "name": "python",
   "nbconvert_exporter": "python",
   "pygments_lexer": "ipython3",
   "version": "3.9.13"
  }
 },
 "nbformat": 4,
 "nbformat_minor": 5
}
