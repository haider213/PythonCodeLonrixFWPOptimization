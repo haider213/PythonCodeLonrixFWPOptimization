{
 "cells": [
  {
   "cell_type": "markdown",
   "id": "5de90c608e32374",
   "metadata": {},
   "source": [
    "# Setting up the problem"
   ]
  },
  {
   "cell_type": "code",
   "execution_count": 1,
   "id": "a729bb558059f1d3",
   "metadata": {
    "ExecuteTime": {
     "end_time": "2023-11-13T04:36:37.729540400Z",
     "start_time": "2023-11-13T04:36:37.136862400Z"
    }
   },
   "outputs": [],
   "source": [
    "# Importing the libraries\n",
    "import numpy as np\n",
    "import matplotlib.pyplot as plt\n",
    "import pandas as pd\n",
    "import seaborn as sns\n",
    "from sklearn.preprocessing import StandardScaler\n",
    "import networkx as nx"
   ]
  },
  {
   "cell_type": "code",
   "execution_count": 3,
   "id": "112d9f0aba7ba0b4",
   "metadata": {
    "ExecuteTime": {
     "end_time": "2023-11-13T04:37:44.820911400Z",
     "start_time": "2023-11-13T04:37:43.117302300Z"
    }
   },
   "outputs": [],
   "source": [
    "# Importing the dataset\n",
    "file_path= 'FWP Example Realistic.xlsx'\n",
    "dataset = pd.read_excel(file_path)"
   ]
  },
  {
   "cell_type": "code",
   "execution_count": 4,
   "id": "3425badbc2134476",
   "metadata": {
    "ExecuteTime": {
     "end_time": "2023-11-13T04:38:03.643859600Z",
     "start_time": "2023-11-13T04:38:03.615714900Z"
    }
   },
   "outputs": [
    {
     "data": {
      "text/plain": [
       "Index(['jv_ID', 'areaName', 'sectionID', 'locFrom', 'locTo', 'lane',\n",
       "       'info_area_m2', 'info_jv_latitude', 'info_jv_longitude',\n",
       "       'info_surf_class', 'info_urban_rural', 'Treatment_2022',\n",
       "       'Treatment_2023', 'Treatment_2024', 'Treatment_2025', 'Treatment_2026',\n",
       "       'Treatment_2027', 'Treatment_2028', 'Treatment_2029', 'Treatment_2030',\n",
       "       'Treatment_2031', 'Treatment_2032', 'Treatment_2033', 'Treatment_2034',\n",
       "       'Treatment_2035', 'Treatment_2036', 'Treatment_2037', 'Treatment_2038',\n",
       "       'Treatment_2039', 'Treatment_2040', 'Treatment_2041'],\n",
       "      dtype='object')"
      ]
     },
     "execution_count": 4,
     "metadata": {},
     "output_type": "execute_result"
    }
   ],
   "source": [
    "dataset.columns"
   ]
  },
  {
   "cell_type": "code",
   "execution_count": null,
   "id": "796c3a6fd8caebf1",
   "metadata": {},
   "outputs": [],
   "source": [
    "# checking the treatments that would happen within one kilometers of each other using info_jv_latitude and info_jv_longitude\n",
    "\n",
    "\n",
    "\n"
   ]
  },
  {
   "cell_type": "code",
   "execution_count": null,
   "id": "58df402fadab730e",
   "metadata": {},
   "outputs": [],
   "source": [
    "#checking the treatments that would happen within one kilometers of each other using info_jv_latitude and info_jv_longitude"
   ]
  },
  {
   "cell_type": "code",
   "execution_count": null,
   "id": "f6030dad09bee432",
   "metadata": {},
   "outputs": [],
   "source": [
    "#checking the treatments that are to happen within three years of each other\n"
   ]
  }
 ],
 "metadata": {
  "kernelspec": {
   "display_name": "Python 3 (ipykernel)",
   "language": "python",
   "name": "python3"
  },
  "language_info": {
   "codemirror_mode": {
    "name": "ipython",
    "version": 3
   },
   "file_extension": ".py",
   "mimetype": "text/x-python",
   "name": "python",
   "nbconvert_exporter": "python",
   "pygments_lexer": "ipython3",
   "version": "3.9.13"
  }
 },
 "nbformat": 4,
 "nbformat_minor": 5
}
