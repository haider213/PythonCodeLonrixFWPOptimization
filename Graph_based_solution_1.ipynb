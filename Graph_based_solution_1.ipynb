{
 "cells": [
  {
   "cell_type": "code",
   "execution_count": 1,
   "id": "initial_id",
   "metadata": {
    "collapsed": true,
    "ExecuteTime": {
     "end_time": "2023-11-13T22:17:35.968916100Z",
     "start_time": "2023-11-13T22:17:35.486712Z"
    }
   },
   "outputs": [],
   "source": [
    "import pandas as pd\n",
    "# Importing the libraries\n",
    "import numpy as np\n",
    "import matplotlib.pyplot as plt\n",
    "import pandas as pd\n",
    "import seaborn as sns\n",
    "from sklearn.preprocessing import StandardScaler\n",
    "import networkx as nx\n",
    "from math import sin, cos, sqrt, atan2, radians"
   ]
  },
  {
   "cell_type": "code",
   "execution_count": 2,
   "outputs": [],
   "source": [
    "import networkx as nx"
   ],
   "metadata": {
    "collapsed": false,
    "ExecuteTime": {
     "end_time": "2023-11-13T22:17:47.814493700Z",
     "start_time": "2023-11-13T22:17:47.784598300Z"
    }
   },
   "id": "55b2a7b5bd1ba56"
  },
  {
   "cell_type": "code",
   "execution_count": 3,
   "outputs": [],
   "source": [
    "name_file='FWP Example Realistic.xlsx'\n",
    "fwp= pd.read_excel(name_file)"
   ],
   "metadata": {
    "collapsed": false,
    "ExecuteTime": {
     "end_time": "2023-11-13T22:17:50.718691300Z",
     "start_time": "2023-11-13T22:17:48.472437800Z"
    }
   },
   "id": "9ca1c5ab367d12d2"
  },
  {
   "cell_type": "code",
   "execution_count": 4,
   "outputs": [
    {
     "data": {
      "text/plain": "    jv_ID                           areaName  sectionID  locFrom  locTo lane  \\\n0  292036              AARON PLACE_8_id_1094       1094        8    127  All   \n1  292037   AARON PLACE HAMMERHEAD_0_id_1095       1095        0     50  All   \n2  292038  AARON PLACE HAMMERHEAD_80_id_1095       1095       80    113  All   \n3  292039          AARON PLACE RAB_0_id_1362       1362        0     53  All   \n4  292040           ABELIA AVENUE_18_id_1028       1028       18     67  All   \n\n   info_area_m2  info_jv_latitude  info_jv_longitude info_surf_class  ...  \\\n0         785.4        -37.694304         176.128057              ac  ...   \n1         365.0        -37.694977         176.127427              ac  ...   \n2         267.3        -37.695154         176.128164              ac  ...   \n3         307.4          0.000000           0.000000              ac  ...   \n4         367.5        -37.682016         176.237100              ac  ...   \n\n  Treatment_2032  Treatment_2033 Treatment_2034 Treatment_2035 Treatment_2036  \\\n0            NaN             NaN            NaN            NaN            NaN   \n1            NaN             NaN       ChipSeal            NaN            NaN   \n2            NaN             NaN            NaN            NaN            NaN   \n3            NaN             NaN      ThinAC_SR            NaN            NaN   \n4            NaN        ChipSeal            NaN            NaN            NaN   \n\n  Treatment_2037 Treatment_2038 Treatment_2039 Treatment_2040 Treatment_2041  \n0            NaN            NaN       ChipSeal            NaN            NaN  \n1            NaN            NaN            NaN            NaN       ChipSeal  \n2            NaN            NaN            NaN       ChipSeal            NaN  \n3            NaN            NaN            NaN            NaN            NaN  \n4            NaN            NaN            NaN       ChipSeal            NaN  \n\n[5 rows x 31 columns]",
      "text/html": "<div>\n<style scoped>\n    .dataframe tbody tr th:only-of-type {\n        vertical-align: middle;\n    }\n\n    .dataframe tbody tr th {\n        vertical-align: top;\n    }\n\n    .dataframe thead th {\n        text-align: right;\n    }\n</style>\n<table border=\"1\" class=\"dataframe\">\n  <thead>\n    <tr style=\"text-align: right;\">\n      <th></th>\n      <th>jv_ID</th>\n      <th>areaName</th>\n      <th>sectionID</th>\n      <th>locFrom</th>\n      <th>locTo</th>\n      <th>lane</th>\n      <th>info_area_m2</th>\n      <th>info_jv_latitude</th>\n      <th>info_jv_longitude</th>\n      <th>info_surf_class</th>\n      <th>...</th>\n      <th>Treatment_2032</th>\n      <th>Treatment_2033</th>\n      <th>Treatment_2034</th>\n      <th>Treatment_2035</th>\n      <th>Treatment_2036</th>\n      <th>Treatment_2037</th>\n      <th>Treatment_2038</th>\n      <th>Treatment_2039</th>\n      <th>Treatment_2040</th>\n      <th>Treatment_2041</th>\n    </tr>\n  </thead>\n  <tbody>\n    <tr>\n      <th>0</th>\n      <td>292036</td>\n      <td>AARON PLACE_8_id_1094</td>\n      <td>1094</td>\n      <td>8</td>\n      <td>127</td>\n      <td>All</td>\n      <td>785.4</td>\n      <td>-37.694304</td>\n      <td>176.128057</td>\n      <td>ac</td>\n      <td>...</td>\n      <td>NaN</td>\n      <td>NaN</td>\n      <td>NaN</td>\n      <td>NaN</td>\n      <td>NaN</td>\n      <td>NaN</td>\n      <td>NaN</td>\n      <td>ChipSeal</td>\n      <td>NaN</td>\n      <td>NaN</td>\n    </tr>\n    <tr>\n      <th>1</th>\n      <td>292037</td>\n      <td>AARON PLACE HAMMERHEAD_0_id_1095</td>\n      <td>1095</td>\n      <td>0</td>\n      <td>50</td>\n      <td>All</td>\n      <td>365.0</td>\n      <td>-37.694977</td>\n      <td>176.127427</td>\n      <td>ac</td>\n      <td>...</td>\n      <td>NaN</td>\n      <td>NaN</td>\n      <td>ChipSeal</td>\n      <td>NaN</td>\n      <td>NaN</td>\n      <td>NaN</td>\n      <td>NaN</td>\n      <td>NaN</td>\n      <td>NaN</td>\n      <td>ChipSeal</td>\n    </tr>\n    <tr>\n      <th>2</th>\n      <td>292038</td>\n      <td>AARON PLACE HAMMERHEAD_80_id_1095</td>\n      <td>1095</td>\n      <td>80</td>\n      <td>113</td>\n      <td>All</td>\n      <td>267.3</td>\n      <td>-37.695154</td>\n      <td>176.128164</td>\n      <td>ac</td>\n      <td>...</td>\n      <td>NaN</td>\n      <td>NaN</td>\n      <td>NaN</td>\n      <td>NaN</td>\n      <td>NaN</td>\n      <td>NaN</td>\n      <td>NaN</td>\n      <td>NaN</td>\n      <td>ChipSeal</td>\n      <td>NaN</td>\n    </tr>\n    <tr>\n      <th>3</th>\n      <td>292039</td>\n      <td>AARON PLACE RAB_0_id_1362</td>\n      <td>1362</td>\n      <td>0</td>\n      <td>53</td>\n      <td>All</td>\n      <td>307.4</td>\n      <td>0.000000</td>\n      <td>0.000000</td>\n      <td>ac</td>\n      <td>...</td>\n      <td>NaN</td>\n      <td>NaN</td>\n      <td>ThinAC_SR</td>\n      <td>NaN</td>\n      <td>NaN</td>\n      <td>NaN</td>\n      <td>NaN</td>\n      <td>NaN</td>\n      <td>NaN</td>\n      <td>NaN</td>\n    </tr>\n    <tr>\n      <th>4</th>\n      <td>292040</td>\n      <td>ABELIA AVENUE_18_id_1028</td>\n      <td>1028</td>\n      <td>18</td>\n      <td>67</td>\n      <td>All</td>\n      <td>367.5</td>\n      <td>-37.682016</td>\n      <td>176.237100</td>\n      <td>ac</td>\n      <td>...</td>\n      <td>NaN</td>\n      <td>ChipSeal</td>\n      <td>NaN</td>\n      <td>NaN</td>\n      <td>NaN</td>\n      <td>NaN</td>\n      <td>NaN</td>\n      <td>NaN</td>\n      <td>ChipSeal</td>\n      <td>NaN</td>\n    </tr>\n  </tbody>\n</table>\n<p>5 rows × 31 columns</p>\n</div>"
     },
     "execution_count": 4,
     "metadata": {},
     "output_type": "execute_result"
    }
   ],
   "source": [
    "fwp.head()"
   ],
   "metadata": {
    "collapsed": false,
    "ExecuteTime": {
     "end_time": "2023-11-13T22:17:50.784579Z",
     "start_time": "2023-11-13T22:17:50.726212500Z"
    }
   },
   "id": "2582a4c60b914e75"
  },
  {
   "cell_type": "code",
   "execution_count": 5,
   "outputs": [],
   "source": [
    "def distance(lat1, lon1, lat2, lon2):\n",
    "    \n",
    "    # approximate radius of earth in km\n",
    "    R = 6373.0\n",
    "    lat1 = radians(lat1)\n",
    "    lon1 = radians(lon1)\n",
    "    lat2 = radians(lat2)\n",
    "    lon2 = radians(lon2)\n",
    "    dlon = lon2 - lon1\n",
    "    dlat = lat2 - lat1\n",
    "    a = sin(dlat/2)**2 + cos(lat1)*cos(lat2)*sin(dlon/2)**2\n",
    "    c = 2*atan2(sqrt(a), sqrt(1-a))\n",
    "    distance = R*c\n",
    "    return distance\n"
   ],
   "metadata": {
    "collapsed": false,
    "ExecuteTime": {
     "end_time": "2023-11-13T22:17:54.977951100Z",
     "start_time": "2023-11-13T22:17:54.963965600Z"
    }
   },
   "id": "df954ee722b26ad3"
  },
  {
   "cell_type": "code",
   "execution_count": null,
   "outputs": [],
   "source": [
    "#plot"
   ],
   "metadata": {
    "collapsed": false
   },
   "id": "27e227e00c7bc525"
  }
 ],
 "metadata": {
  "kernelspec": {
   "display_name": "Python 3",
   "language": "python",
   "name": "python3"
  },
  "language_info": {
   "codemirror_mode": {
    "name": "ipython",
    "version": 2
   },
   "file_extension": ".py",
   "mimetype": "text/x-python",
   "name": "python",
   "nbconvert_exporter": "python",
   "pygments_lexer": "ipython2",
   "version": "2.7.6"
  }
 },
 "nbformat": 4,
 "nbformat_minor": 5
}
